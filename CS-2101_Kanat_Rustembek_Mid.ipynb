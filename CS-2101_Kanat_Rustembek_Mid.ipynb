{
 "cells": [
  {
   "cell_type": "markdown",
   "id": "e808eed6",
   "metadata": {},
   "source": [
    "# Big Data in Law Enforcement"
   ]
  },
  {
   "cell_type": "markdown",
   "id": "56ee17b0",
   "metadata": {},
   "source": [
    "##  Introduction\n",
    "Cybersecurity, it is protecting computer systems, networks, and digital information from unauthorized access, attacks using wide range of strategies and technologies. Big Data refers to the massive collection data."
   ]
  },
  {
   "cell_type": "markdown",
   "id": "5b8f574e",
   "metadata": {},
   "source": [
    "**Objectives**\n",
    "- List of the popular languages that Data Scientists use\n",
    "- List of the popular languages that Data Scientists use\n",
    "- Examples of evaluating arithmetic expressions in Python\n",
    "- Simple arithmetic expression\n",
    "- Converting 300 minutes to hours"
   ]
  },
  {
   "cell_type": "markdown",
   "id": "ca0e8c4e",
   "metadata": {},
   "source": [
    "*Some of the popular languages that Data Scientists use are:*\n",
    "1. Python\n",
    "2. SQL\n",
    "3. R"
   ]
  },
  {
   "cell_type": "markdown",
   "id": "2781d596",
   "metadata": {},
   "source": [
    "*Some of the commonly used libraries used by Data Scientist include:*\n",
    "- NumPy\n",
    "- Pandas\n",
    "- Matplotlib\n",
    "- Scikit-learn"
   ]
  },
  {
   "cell_type": "markdown",
   "id": "ecb4c15b",
   "metadata": {},
   "source": [
    "| Data Science Tools   |\n",
    "|----------------------|\n",
    "| Jupyter Notebook   |\n",
    "| RStudio            |\n",
    "| Visual Studio Code |"
   ]
  },
  {
   "cell_type": "markdown",
   "id": "00648029",
   "metadata": {},
   "source": [
    "### Below are a few examples of evaluating arithmetic expressions in Python.\n",
    "14 + 48 = 62  "
   ]
  },
  {
   "cell_type": "code",
   "execution_count": 1,
   "id": "dfae1c51",
   "metadata": {},
   "outputs": [
    {
     "name": "stdout",
     "output_type": "stream",
     "text": [
      "33\n"
     ]
    }
   ],
   "source": [
    "# This is a simple arithmetic expression\n",
    "\n",
    "a = (4*6)+9\n",
    "print(a)"
   ]
  },
  {
   "cell_type": "code",
   "execution_count": 2,
   "id": "d42c10f6",
   "metadata": {},
   "outputs": [
    {
     "name": "stdout",
     "output_type": "stream",
     "text": [
      "5.0\n"
     ]
    }
   ],
   "source": [
    "# This will convert 300 minutes to hours by dividing by 60.\n",
    "\n",
    "b = 300 / 60\n",
    "print(b)"
   ]
  },
  {
   "cell_type": "markdown",
   "id": "ba1baeee",
   "metadata": {},
   "source": [
    "## Author\n",
    "Rustembek Kanat"
   ]
  },
  {
   "cell_type": "code",
   "execution_count": null,
   "id": "d34fd00e",
   "metadata": {},
   "outputs": [],
   "source": []
  }
 ],
 "metadata": {
  "kernelspec": {
   "display_name": "Python 3 (ipykernel)",
   "language": "python",
   "name": "python3"
  },
  "language_info": {
   "codemirror_mode": {
    "name": "ipython",
    "version": 3
   },
   "file_extension": ".py",
   "mimetype": "text/x-python",
   "name": "python",
   "nbconvert_exporter": "python",
   "pygments_lexer": "ipython3",
   "version": "3.9.13"
  }
 },
 "nbformat": 4,
 "nbformat_minor": 5
}
